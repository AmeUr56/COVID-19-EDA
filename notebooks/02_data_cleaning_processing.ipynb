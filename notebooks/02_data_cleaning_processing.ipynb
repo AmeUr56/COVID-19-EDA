{
 "cells": [
  {
   "cell_type": "code",
   "execution_count": 120,
   "metadata": {},
   "outputs": [],
   "source": [
    "import requests\n",
    "import numpy as np\n",
    "import pandas as pd"
   ]
  },
  {
   "cell_type": "markdown",
   "metadata": {},
   "source": [
    "### Fetch Raw Data from the API"
   ]
  },
  {
   "cell_type": "code",
   "execution_count": 121,
   "metadata": {},
   "outputs": [
    {
     "name": "stdout",
     "output_type": "stream",
     "text": [
      "200\n"
     ]
    }
   ],
   "source": [
    "raw_data_url = \"http://127.0.0.1:5000/raw_data\"\n",
    "response = requests.get(raw_data_url)\n",
    "print(response.status_code)"
   ]
  },
  {
   "cell_type": "code",
   "execution_count": 122,
   "metadata": {},
   "outputs": [
    {
     "data": {
      "text/html": [
       "<div>\n",
       "<style scoped>\n",
       "    .dataframe tbody tr th:only-of-type {\n",
       "        vertical-align: middle;\n",
       "    }\n",
       "\n",
       "    .dataframe tbody tr th {\n",
       "        vertical-align: top;\n",
       "    }\n",
       "\n",
       "    .dataframe thead th {\n",
       "        text-align: right;\n",
       "    }\n",
       "</style>\n",
       "<table border=\"1\" class=\"dataframe\">\n",
       "  <thead>\n",
       "    <tr style=\"text-align: right;\">\n",
       "      <th></th>\n",
       "      <th>country</th>\n",
       "      <th>date</th>\n",
       "      <th>total_cases</th>\n",
       "      <th>new_cases</th>\n",
       "      <th>total_deaths</th>\n",
       "      <th>new_deaths</th>\n",
       "      <th>total_cases_per_million</th>\n",
       "      <th>total_deaths_per_million</th>\n",
       "      <th>total_vaccinations</th>\n",
       "      <th>people_vaccinated</th>\n",
       "      <th>people_fully_vaccinated</th>\n",
       "      <th>new_vaccinations</th>\n",
       "      <th>total_tests</th>\n",
       "      <th>new_tests</th>\n",
       "      <th>positive_rate</th>\n",
       "      <th>population</th>\n",
       "      <th>median_age</th>\n",
       "      <th>gdp_per_capita</th>\n",
       "    </tr>\n",
       "  </thead>\n",
       "  <tbody>\n",
       "    <tr>\n",
       "      <th>378040</th>\n",
       "      <td>South Africa</td>\n",
       "      <td>2024-12-01</td>\n",
       "      <td>NaN</td>\n",
       "      <td>NaN</td>\n",
       "      <td>NaN</td>\n",
       "      <td>NaN</td>\n",
       "      <td>NaN</td>\n",
       "      <td>NaN</td>\n",
       "      <td>NaN</td>\n",
       "      <td>NaN</td>\n",
       "      <td>NaN</td>\n",
       "      <td>NaN</td>\n",
       "      <td>NaN</td>\n",
       "      <td>NaN</td>\n",
       "      <td>NaN</td>\n",
       "      <td>62378419.0</td>\n",
       "      <td>27.919</td>\n",
       "      <td>13478.754</td>\n",
       "    </tr>\n",
       "    <tr>\n",
       "      <th>378041</th>\n",
       "      <td>South Africa</td>\n",
       "      <td>2024-12-08</td>\n",
       "      <td>NaN</td>\n",
       "      <td>NaN</td>\n",
       "      <td>NaN</td>\n",
       "      <td>NaN</td>\n",
       "      <td>NaN</td>\n",
       "      <td>NaN</td>\n",
       "      <td>NaN</td>\n",
       "      <td>NaN</td>\n",
       "      <td>NaN</td>\n",
       "      <td>NaN</td>\n",
       "      <td>NaN</td>\n",
       "      <td>NaN</td>\n",
       "      <td>NaN</td>\n",
       "      <td>62378419.0</td>\n",
       "      <td>27.919</td>\n",
       "      <td>13478.754</td>\n",
       "    </tr>\n",
       "    <tr>\n",
       "      <th>378042</th>\n",
       "      <td>South Africa</td>\n",
       "      <td>2024-12-15</td>\n",
       "      <td>NaN</td>\n",
       "      <td>NaN</td>\n",
       "      <td>NaN</td>\n",
       "      <td>NaN</td>\n",
       "      <td>NaN</td>\n",
       "      <td>NaN</td>\n",
       "      <td>NaN</td>\n",
       "      <td>NaN</td>\n",
       "      <td>NaN</td>\n",
       "      <td>NaN</td>\n",
       "      <td>NaN</td>\n",
       "      <td>NaN</td>\n",
       "      <td>NaN</td>\n",
       "      <td>62378419.0</td>\n",
       "      <td>27.919</td>\n",
       "      <td>13478.754</td>\n",
       "    </tr>\n",
       "    <tr>\n",
       "      <th>378043</th>\n",
       "      <td>South Africa</td>\n",
       "      <td>2024-12-22</td>\n",
       "      <td>NaN</td>\n",
       "      <td>NaN</td>\n",
       "      <td>NaN</td>\n",
       "      <td>NaN</td>\n",
       "      <td>NaN</td>\n",
       "      <td>NaN</td>\n",
       "      <td>NaN</td>\n",
       "      <td>NaN</td>\n",
       "      <td>NaN</td>\n",
       "      <td>NaN</td>\n",
       "      <td>NaN</td>\n",
       "      <td>NaN</td>\n",
       "      <td>NaN</td>\n",
       "      <td>62378419.0</td>\n",
       "      <td>27.919</td>\n",
       "      <td>13478.754</td>\n",
       "    </tr>\n",
       "    <tr>\n",
       "      <th>378044</th>\n",
       "      <td>South Africa</td>\n",
       "      <td>2024-12-29</td>\n",
       "      <td>NaN</td>\n",
       "      <td>NaN</td>\n",
       "      <td>NaN</td>\n",
       "      <td>NaN</td>\n",
       "      <td>NaN</td>\n",
       "      <td>NaN</td>\n",
       "      <td>NaN</td>\n",
       "      <td>NaN</td>\n",
       "      <td>NaN</td>\n",
       "      <td>NaN</td>\n",
       "      <td>NaN</td>\n",
       "      <td>NaN</td>\n",
       "      <td>NaN</td>\n",
       "      <td>62378419.0</td>\n",
       "      <td>27.919</td>\n",
       "      <td>13478.754</td>\n",
       "    </tr>\n",
       "  </tbody>\n",
       "</table>\n",
       "</div>"
      ],
      "text/plain": [
       "             country        date  total_cases  new_cases  total_deaths  \\\n",
       "378040  South Africa  2024-12-01          NaN        NaN           NaN   \n",
       "378041  South Africa  2024-12-08          NaN        NaN           NaN   \n",
       "378042  South Africa  2024-12-15          NaN        NaN           NaN   \n",
       "378043  South Africa  2024-12-22          NaN        NaN           NaN   \n",
       "378044  South Africa  2024-12-29          NaN        NaN           NaN   \n",
       "\n",
       "        new_deaths  total_cases_per_million  total_deaths_per_million  \\\n",
       "378040         NaN                      NaN                       NaN   \n",
       "378041         NaN                      NaN                       NaN   \n",
       "378042         NaN                      NaN                       NaN   \n",
       "378043         NaN                      NaN                       NaN   \n",
       "378044         NaN                      NaN                       NaN   \n",
       "\n",
       "        total_vaccinations  people_vaccinated  people_fully_vaccinated  \\\n",
       "378040                 NaN                NaN                      NaN   \n",
       "378041                 NaN                NaN                      NaN   \n",
       "378042                 NaN                NaN                      NaN   \n",
       "378043                 NaN                NaN                      NaN   \n",
       "378044                 NaN                NaN                      NaN   \n",
       "\n",
       "        new_vaccinations  total_tests  new_tests  positive_rate  population  \\\n",
       "378040               NaN          NaN        NaN            NaN  62378419.0   \n",
       "378041               NaN          NaN        NaN            NaN  62378419.0   \n",
       "378042               NaN          NaN        NaN            NaN  62378419.0   \n",
       "378043               NaN          NaN        NaN            NaN  62378419.0   \n",
       "378044               NaN          NaN        NaN            NaN  62378419.0   \n",
       "\n",
       "        median_age  gdp_per_capita  \n",
       "378040      27.919       13478.754  \n",
       "378041      27.919       13478.754  \n",
       "378042      27.919       13478.754  \n",
       "378043      27.919       13478.754  \n",
       "378044      27.919       13478.754  "
      ]
     },
     "execution_count": 122,
     "metadata": {},
     "output_type": "execute_result"
    }
   ],
   "source": [
    "data = pd.DataFrame(response.json())\n",
    "data.tail()"
   ]
  },
  {
   "cell_type": "code",
   "execution_count": 123,
   "metadata": {},
   "outputs": [
    {
     "name": "stdout",
     "output_type": "stream",
     "text": [
      "Rows: 10753\n",
      "Columns: 18\n"
     ]
    }
   ],
   "source": [
    "print(\"Rows: {}\\nColumns: {}\".format(*data.shape))"
   ]
  },
  {
   "cell_type": "markdown",
   "metadata": {},
   "source": [
    "### Handling Missing Values"
   ]
  },
  {
   "cell_type": "code",
   "execution_count": 124,
   "metadata": {},
   "outputs": [
    {
     "data": {
      "text/plain": [
       "new_vaccinations            8403\n",
       "people_fully_vaccinated     8297\n",
       "people_vaccinated           8234\n",
       "total_vaccinations          8082\n",
       "new_tests                   7773\n",
       "total_tests                 7638\n",
       "positive_rate               7339\n",
       "gdp_per_capita              1792\n",
       "total_deaths_per_million      31\n",
       "total_cases_per_million       31\n",
       "new_deaths                    31\n",
       "total_deaths                  31\n",
       "new_cases                     31\n",
       "total_cases                   31\n",
       "date                           0\n",
       "population                     0\n",
       "median_age                     0\n",
       "country                        0\n",
       "dtype: int64"
      ]
     },
     "execution_count": 124,
     "metadata": {},
     "output_type": "execute_result"
    }
   ],
   "source": [
    "data.isnull().sum().sort_values(ascending=False)"
   ]
  },
  {
   "cell_type": "markdown",
   "metadata": {},
   "source": [
    "We see that there is a lot of missing values in most columns.<br>"
   ]
  },
  {
   "cell_type": "markdown",
   "metadata": {},
   "source": [
    "Most features related to vaccinations are missing so we will drop them."
   ]
  },
  {
   "cell_type": "code",
   "execution_count": 125,
   "metadata": {},
   "outputs": [],
   "source": [
    "vaccinations_cols = ['new_vaccinations','people_fully_vaccinated','people_vaccinated','total_vaccinations']\n",
    "data.drop(vaccinations_cols,axis=1,inplace=True)"
   ]
  },
  {
   "cell_type": "markdown",
   "metadata": {},
   "source": [
    "Same thing for test related features."
   ]
  },
  {
   "cell_type": "code",
   "execution_count": 126,
   "metadata": {},
   "outputs": [],
   "source": [
    "test_cols = ['new_tests','total_tests','positive_rate']\n",
    "data.drop(test_cols,axis=1,inplace=True)"
   ]
  },
  {
   "cell_type": "markdown",
   "metadata": {},
   "source": [
    "**gdp_per_capita** is same in all dates for each country."
   ]
  },
  {
   "cell_type": "code",
   "execution_count": 127,
   "metadata": {},
   "outputs": [
    {
     "data": {
      "text/plain": [
       "5"
      ]
     },
     "execution_count": 127,
     "metadata": {},
     "output_type": "execute_result"
    }
   ],
   "source": [
    "data.gdp_per_capita.nunique()"
   ]
  },
  {
   "cell_type": "markdown",
   "metadata": {},
   "source": [
    "We can see that only **greenland** country doesnt have gdp_per_capita.<br>"
   ]
  },
  {
   "cell_type": "code",
   "execution_count": 128,
   "metadata": {},
   "outputs": [
    {
     "data": {
      "text/plain": [
       "array(['Greenland'], dtype=object)"
      ]
     },
     "execution_count": 128,
     "metadata": {},
     "output_type": "execute_result"
    }
   ],
   "source": [
    "data[data['gdp_per_capita'].isnull()].country.unique()"
   ]
  },
  {
   "cell_type": "markdown",
   "metadata": {},
   "source": [
    "I will get it from ethernet and fill it:\n",
    "https://data.worldbank.org/indicator/NY.GDP.PCAP.CD?locations=GL\n",
    "#### Note:\n",
    "this is the gdp_per_capita in 2020 not currently."
   ]
  },
  {
   "cell_type": "code",
   "execution_count": 129,
   "metadata": {},
   "outputs": [],
   "source": [
    "data.loc[data['gdp_per_capita'].isnull(),'gdp_per_capita'] = 54_693"
   ]
  },
  {
   "cell_type": "code",
   "execution_count": 130,
   "metadata": {},
   "outputs": [
    {
     "data": {
      "text/plain": [
       "array(['2020-01-01', '2020-01-02', '2020-01-03', '2024-11-30',\n",
       "       '2024-12-01', '2024-12-08', '2024-12-15', '2024-12-22',\n",
       "       '2024-12-29', '2024-12-31'], dtype=object)"
      ]
     },
     "execution_count": 130,
     "metadata": {},
     "output_type": "execute_result"
    }
   ],
   "source": [
    "rest_cols = ['total_deaths_per_million', 'total_cases_per_million', 'new_deaths', 'total_deaths', 'new_cases', 'total_cases']\n",
    "dates = [data[data[col].isnull()].date.unique() for col in rest_cols]\n",
    "np.unique(dates)"
   ]
  },
  {
   "cell_type": "markdown",
   "metadata": {},
   "source": [
    "We see that for all columns with 31 missing values are is same dates.<br>\n",
    "We will fill rows with dates 2020/01/01 to 2020/01/03 with 0 cause they are in begining of the date interval in this dataset.<br>\n",
    "And for at the end of 2024 we will fill them with values before."
   ]
  },
  {
   "cell_type": "code",
   "execution_count": 131,
   "metadata": {},
   "outputs": [],
   "source": [
    "data.loc[data['date'] <= '2020-01-03',rest_cols] = 0"
   ]
  },
  {
   "cell_type": "code",
   "execution_count": 132,
   "metadata": {},
   "outputs": [
    {
     "name": "stderr",
     "output_type": "stream",
     "text": [
      "C:\\Users\\User\\AppData\\Local\\Temp\\ipykernel_720\\4264683961.py:2: FutureWarning: Series.fillna with 'method' is deprecated and will raise in a future version. Use obj.ffill() or obj.bfill() instead.\n",
      "  data[rest_cols[i]] = data[rest_cols[i]].fillna(method='ffill')\n"
     ]
    }
   ],
   "source": [
    "for i in range(len(rest_cols)):\n",
    "    data[rest_cols[i]] = data[rest_cols[i]].fillna(method='ffill')"
   ]
  },
  {
   "cell_type": "code",
   "execution_count": 133,
   "metadata": {},
   "outputs": [
    {
     "data": {
      "text/plain": [
       "country                     0\n",
       "date                        0\n",
       "total_cases                 0\n",
       "new_cases                   0\n",
       "total_deaths                0\n",
       "new_deaths                  0\n",
       "total_cases_per_million     0\n",
       "total_deaths_per_million    0\n",
       "population                  0\n",
       "median_age                  0\n",
       "gdp_per_capita              0\n",
       "dtype: int64"
      ]
     },
     "execution_count": 133,
     "metadata": {},
     "output_type": "execute_result"
    }
   ],
   "source": [
    "data.isnull().sum()"
   ]
  },
  {
   "cell_type": "markdown",
   "metadata": {},
   "source": [
    "Everything is cleaned now."
   ]
  },
  {
   "cell_type": "markdown",
   "metadata": {},
   "source": [
    "### Handling Duplicates"
   ]
  },
  {
   "cell_type": "code",
   "execution_count": 134,
   "metadata": {},
   "outputs": [
    {
     "data": {
      "text/plain": [
       "array([False])"
      ]
     },
     "execution_count": 134,
     "metadata": {},
     "output_type": "execute_result"
    }
   ],
   "source": [
    "data.duplicated().unique()"
   ]
  },
  {
   "cell_type": "markdown",
   "metadata": {},
   "source": [
    "There is no duplicates."
   ]
  },
  {
   "cell_type": "markdown",
   "metadata": {},
   "source": [
    "### Feature Engineering"
   ]
  },
  {
   "cell_type": "code",
   "execution_count": 135,
   "metadata": {},
   "outputs": [
    {
     "data": {
      "text/plain": [
       "Index(['country', 'date', 'total_cases', 'new_cases', 'total_deaths',\n",
       "       'new_deaths', 'total_cases_per_million', 'total_deaths_per_million',\n",
       "       'population', 'median_age', 'gdp_per_capita'],\n",
       "      dtype='object')"
      ]
     },
     "execution_count": 135,
     "metadata": {},
     "output_type": "execute_result"
    }
   ],
   "source": [
    "data.columns"
   ]
  },
  {
   "cell_type": "markdown",
   "metadata": {},
   "source": [
    "- **new_cases / total_cases**: the proportion of new cases compared to the total reported cases on a given day.\n",
    "- **new_deaths / total_deaths**: the proportion of new deaths compared to the total reported cases on a given day.\n",
    "- **total_deaths_per_million / population**:  the fraction of total deaths normalized by population size.\n",
    "- **total_cases_per_million / population**: the fraction of total deaths normalized by population size.\n",
    "- **new_deaths / new_cases**: the proportion of daily reported cases that have resulted in death.\n",
    "- **total_deaths / total_cases**: the proportion of total reported cases that have resulted in death."
   ]
  },
  {
   "cell_type": "code",
   "execution_count": 136,
   "metadata": {},
   "outputs": [],
   "source": [
    "epsilon = 1e-10\n",
    "data['new_cases_ratio'] = data['new_cases'] / (data['total_cases']+epsilon) * 100\n",
    "data['new_deaths_ratio'] = data['new_deaths'] / (data['total_deaths']+epsilon) * 100\n",
    "data['deaths_per_million_ratio'] = data['total_deaths_per_million'] / (data['population']+epsilon) * 100\n",
    "data['case_per_million_ratio'] = data['total_cases_per_million'] / (data['population']+epsilon) * 100\n",
    "data['daily_case_fatality_rate'] = data['new_deaths'] / (data['new_cases']+epsilon) * 100\n",
    "data['total_case_fatality_rate'] = data['total_deaths'] / (data['total_cases']+epsilon) * 100"
   ]
  },
  {
   "cell_type": "code",
   "execution_count": 137,
   "metadata": {},
   "outputs": [
    {
     "data": {
      "text/plain": [
       "country                        Algeria\n",
       "date                        2020-04-20\n",
       "total_cases                     2629.0\n",
       "new_cases                         95.0\n",
       "total_deaths                     376.0\n",
       "new_deaths                         8.0\n",
       "total_cases_per_million      57.808945\n",
       "total_deaths_per_million      8.267844\n",
       "population                  45477391.0\n",
       "median_age                      27.983\n",
       "gdp_per_capita               11198.233\n",
       "new_cases_ratio               3.613541\n",
       "new_deaths_ratio               2.12766\n",
       "deaths_per_million_ratio      0.000018\n",
       "case_per_million_ratio        0.000127\n",
       "daily_case_fatality_rate      8.421053\n",
       "total_case_fatality_rate     14.302016\n",
       "Name: 5479, dtype: object"
      ]
     },
     "execution_count": 137,
     "metadata": {},
     "output_type": "execute_result"
    }
   ],
   "source": [
    "# Check Random Obseration\n",
    "data.iloc[110]"
   ]
  },
  {
   "cell_type": "markdown",
   "metadata": {},
   "source": [
    "### Upload the Processed Data to the API"
   ]
  },
  {
   "cell_type": "code",
   "execution_count": 138,
   "metadata": {},
   "outputs": [],
   "source": [
    "# Convert the DataFrame to Json format for transmition\n",
    "data_json = data.to_json()"
   ]
  },
  {
   "cell_type": "code",
   "execution_count": 139,
   "metadata": {},
   "outputs": [
    {
     "name": "stdout",
     "output_type": "stream",
     "text": [
      "201\n"
     ]
    }
   ],
   "source": [
    "processed_data_url = \"http://127.0.0.1:5000/processed_data\"\n",
    "\n",
    "response = requests.post(processed_data_url,json=data_json)\n",
    "print(response.status_code)"
   ]
  }
 ],
 "metadata": {
  "kernelspec": {
   "display_name": "base",
   "language": "python",
   "name": "python3"
  },
  "language_info": {
   "codemirror_mode": {
    "name": "ipython",
    "version": 3
   },
   "file_extension": ".py",
   "mimetype": "text/x-python",
   "name": "python",
   "nbconvert_exporter": "python",
   "pygments_lexer": "ipython3",
   "version": "3.11.7"
  }
 },
 "nbformat": 4,
 "nbformat_minor": 2
}
