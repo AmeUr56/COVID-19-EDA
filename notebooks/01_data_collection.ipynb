{
 "cells": [
  {
   "cell_type": "code",
   "execution_count": 1,
   "metadata": {},
   "outputs": [],
   "source": [
    "from io import BytesIO\n",
    "import requests\n",
    "import pandas as pd"
   ]
  },
  {
   "cell_type": "markdown",
   "metadata": {},
   "source": [
    "### Fetch & Load the dataset"
   ]
  },
  {
   "cell_type": "code",
   "execution_count": 2,
   "metadata": {},
   "outputs": [
    {
     "data": {
      "text/html": [
       "<div>\n",
       "<style scoped>\n",
       "    .dataframe tbody tr th:only-of-type {\n",
       "        vertical-align: middle;\n",
       "    }\n",
       "\n",
       "    .dataframe tbody tr th {\n",
       "        vertical-align: top;\n",
       "    }\n",
       "\n",
       "    .dataframe thead th {\n",
       "        text-align: right;\n",
       "    }\n",
       "</style>\n",
       "<table border=\"1\" class=\"dataframe\">\n",
       "  <thead>\n",
       "    <tr style=\"text-align: right;\">\n",
       "      <th></th>\n",
       "      <th>country</th>\n",
       "      <th>date</th>\n",
       "      <th>total_cases</th>\n",
       "      <th>new_cases</th>\n",
       "      <th>new_cases_smoothed</th>\n",
       "      <th>total_cases_per_million</th>\n",
       "      <th>new_cases_per_million</th>\n",
       "      <th>new_cases_smoothed_per_million</th>\n",
       "      <th>total_deaths</th>\n",
       "      <th>new_deaths</th>\n",
       "      <th>...</th>\n",
       "      <th>population</th>\n",
       "      <th>population_density</th>\n",
       "      <th>median_age</th>\n",
       "      <th>life_expectancy</th>\n",
       "      <th>gdp_per_capita</th>\n",
       "      <th>extreme_poverty</th>\n",
       "      <th>diabetes_prevalence</th>\n",
       "      <th>handwashing_facilities</th>\n",
       "      <th>hospital_beds_per_thousand</th>\n",
       "      <th>human_development_index</th>\n",
       "    </tr>\n",
       "  </thead>\n",
       "  <tbody>\n",
       "    <tr>\n",
       "      <th>0</th>\n",
       "      <td>Afghanistan</td>\n",
       "      <td>2020-01-01</td>\n",
       "      <td>NaN</td>\n",
       "      <td>NaN</td>\n",
       "      <td>NaN</td>\n",
       "      <td>NaN</td>\n",
       "      <td>NaN</td>\n",
       "      <td>NaN</td>\n",
       "      <td>NaN</td>\n",
       "      <td>NaN</td>\n",
       "      <td>...</td>\n",
       "      <td>40578846.0</td>\n",
       "      <td>62.215546</td>\n",
       "      <td>16.752</td>\n",
       "      <td>NaN</td>\n",
       "      <td>1516.2733</td>\n",
       "      <td>NaN</td>\n",
       "      <td>10.9</td>\n",
       "      <td>48.214695</td>\n",
       "      <td>0.39</td>\n",
       "      <td>0.462</td>\n",
       "    </tr>\n",
       "    <tr>\n",
       "      <th>1</th>\n",
       "      <td>Afghanistan</td>\n",
       "      <td>2020-01-02</td>\n",
       "      <td>NaN</td>\n",
       "      <td>NaN</td>\n",
       "      <td>NaN</td>\n",
       "      <td>NaN</td>\n",
       "      <td>NaN</td>\n",
       "      <td>NaN</td>\n",
       "      <td>NaN</td>\n",
       "      <td>NaN</td>\n",
       "      <td>...</td>\n",
       "      <td>40578846.0</td>\n",
       "      <td>62.215546</td>\n",
       "      <td>16.752</td>\n",
       "      <td>NaN</td>\n",
       "      <td>1516.2733</td>\n",
       "      <td>NaN</td>\n",
       "      <td>10.9</td>\n",
       "      <td>48.214695</td>\n",
       "      <td>0.39</td>\n",
       "      <td>0.462</td>\n",
       "    </tr>\n",
       "    <tr>\n",
       "      <th>2</th>\n",
       "      <td>Afghanistan</td>\n",
       "      <td>2020-01-03</td>\n",
       "      <td>NaN</td>\n",
       "      <td>NaN</td>\n",
       "      <td>NaN</td>\n",
       "      <td>NaN</td>\n",
       "      <td>NaN</td>\n",
       "      <td>NaN</td>\n",
       "      <td>NaN</td>\n",
       "      <td>NaN</td>\n",
       "      <td>...</td>\n",
       "      <td>40578846.0</td>\n",
       "      <td>62.215546</td>\n",
       "      <td>16.752</td>\n",
       "      <td>NaN</td>\n",
       "      <td>1516.2733</td>\n",
       "      <td>NaN</td>\n",
       "      <td>10.9</td>\n",
       "      <td>48.214695</td>\n",
       "      <td>0.39</td>\n",
       "      <td>0.462</td>\n",
       "    </tr>\n",
       "    <tr>\n",
       "      <th>3</th>\n",
       "      <td>Afghanistan</td>\n",
       "      <td>2020-01-04</td>\n",
       "      <td>0.0</td>\n",
       "      <td>0.0</td>\n",
       "      <td>NaN</td>\n",
       "      <td>0.0</td>\n",
       "      <td>0.0</td>\n",
       "      <td>NaN</td>\n",
       "      <td>0.0</td>\n",
       "      <td>0.0</td>\n",
       "      <td>...</td>\n",
       "      <td>40578846.0</td>\n",
       "      <td>62.215546</td>\n",
       "      <td>16.752</td>\n",
       "      <td>NaN</td>\n",
       "      <td>1516.2733</td>\n",
       "      <td>NaN</td>\n",
       "      <td>10.9</td>\n",
       "      <td>48.214695</td>\n",
       "      <td>0.39</td>\n",
       "      <td>0.462</td>\n",
       "    </tr>\n",
       "    <tr>\n",
       "      <th>4</th>\n",
       "      <td>Afghanistan</td>\n",
       "      <td>2020-01-05</td>\n",
       "      <td>0.0</td>\n",
       "      <td>0.0</td>\n",
       "      <td>NaN</td>\n",
       "      <td>0.0</td>\n",
       "      <td>0.0</td>\n",
       "      <td>NaN</td>\n",
       "      <td>0.0</td>\n",
       "      <td>0.0</td>\n",
       "      <td>...</td>\n",
       "      <td>40578846.0</td>\n",
       "      <td>62.215546</td>\n",
       "      <td>16.752</td>\n",
       "      <td>NaN</td>\n",
       "      <td>1516.2733</td>\n",
       "      <td>NaN</td>\n",
       "      <td>10.9</td>\n",
       "      <td>48.214695</td>\n",
       "      <td>0.39</td>\n",
       "      <td>0.462</td>\n",
       "    </tr>\n",
       "  </tbody>\n",
       "</table>\n",
       "<p>5 rows × 61 columns</p>\n",
       "</div>"
      ],
      "text/plain": [
       "       country        date  total_cases  new_cases  new_cases_smoothed  \\\n",
       "0  Afghanistan  2020-01-01          NaN        NaN                 NaN   \n",
       "1  Afghanistan  2020-01-02          NaN        NaN                 NaN   \n",
       "2  Afghanistan  2020-01-03          NaN        NaN                 NaN   \n",
       "3  Afghanistan  2020-01-04          0.0        0.0                 NaN   \n",
       "4  Afghanistan  2020-01-05          0.0        0.0                 NaN   \n",
       "\n",
       "   total_cases_per_million  new_cases_per_million  \\\n",
       "0                      NaN                    NaN   \n",
       "1                      NaN                    NaN   \n",
       "2                      NaN                    NaN   \n",
       "3                      0.0                    0.0   \n",
       "4                      0.0                    0.0   \n",
       "\n",
       "   new_cases_smoothed_per_million  total_deaths  new_deaths  ...  population  \\\n",
       "0                             NaN           NaN         NaN  ...  40578846.0   \n",
       "1                             NaN           NaN         NaN  ...  40578846.0   \n",
       "2                             NaN           NaN         NaN  ...  40578846.0   \n",
       "3                             NaN           0.0         0.0  ...  40578846.0   \n",
       "4                             NaN           0.0         0.0  ...  40578846.0   \n",
       "\n",
       "   population_density  median_age  life_expectancy  gdp_per_capita  \\\n",
       "0           62.215546      16.752              NaN       1516.2733   \n",
       "1           62.215546      16.752              NaN       1516.2733   \n",
       "2           62.215546      16.752              NaN       1516.2733   \n",
       "3           62.215546      16.752              NaN       1516.2733   \n",
       "4           62.215546      16.752              NaN       1516.2733   \n",
       "\n",
       "   extreme_poverty  diabetes_prevalence  handwashing_facilities  \\\n",
       "0              NaN                 10.9               48.214695   \n",
       "1              NaN                 10.9               48.214695   \n",
       "2              NaN                 10.9               48.214695   \n",
       "3              NaN                 10.9               48.214695   \n",
       "4              NaN                 10.9               48.214695   \n",
       "\n",
       "   hospital_beds_per_thousand  human_development_index  \n",
       "0                        0.39                    0.462  \n",
       "1                        0.39                    0.462  \n",
       "2                        0.39                    0.462  \n",
       "3                        0.39                    0.462  \n",
       "4                        0.39                    0.462  \n",
       "\n",
       "[5 rows x 61 columns]"
      ]
     },
     "execution_count": 2,
     "metadata": {},
     "output_type": "execute_result"
    }
   ],
   "source": [
    "url = \"https://catalog.ourworldindata.org/garden/covid/latest/compact/compact.csv\"\n",
    "\n",
    "# GET Request for the dataset url\n",
    "response = requests.get(url)\n",
    "response.raise_for_status()\n",
    "\n",
    "# Load data to Pandas DataFrame\n",
    "csv_data = BytesIO(response.content)\n",
    "covid19_data = pd.read_csv(csv_data)\n",
    "covid19_data.head()"
   ]
  },
  {
   "cell_type": "markdown",
   "metadata": {},
   "source": [
    "### Basic infos about the dataset"
   ]
  },
  {
   "cell_type": "code",
   "execution_count": 5,
   "metadata": {},
   "outputs": [
    {
     "name": "stdout",
     "output_type": "stream",
     "text": [
      "Dataset's memory size: 223.8 MB\n"
     ]
    }
   ],
   "source": [
    "# Memory Usage in megabytes\n",
    "print(f\"Dataset's memory size: {covid19_data.memory_usage().sum()/1e6:.1f} MB\")"
   ]
  },
  {
   "cell_type": "code",
   "execution_count": 10,
   "metadata": {},
   "outputs": [
    {
     "name": "stdout",
     "output_type": "stream",
     "text": [
      "Number of Columns: 61\n",
      "Number of Rows(observations): 458548\n",
      "Size: 27971428\n"
     ]
    }
   ],
   "source": [
    "# Dataset's Shape & Size\n",
    "print(f\"Number of Columns: {covid19_data.shape[1]}\")\n",
    "print(f\"Number of Rows(observations): {covid19_data.shape[0]}\")\n",
    "\n",
    "print(f\"Size: {covid19_data.size}\")"
   ]
  },
  {
   "cell_type": "code",
   "execution_count": 11,
   "metadata": {},
   "outputs": [
    {
     "name": "stdout",
     "output_type": "stream",
     "text": [
      "country                        object\n",
      "date                           object\n",
      "total_cases                   float64\n",
      "new_cases                     float64\n",
      "new_cases_smoothed            float64\n",
      "                               ...   \n",
      "extreme_poverty               float64\n",
      "diabetes_prevalence           float64\n",
      "handwashing_facilities        float64\n",
      "hospital_beds_per_thousand    float64\n",
      "human_development_index       float64\n",
      "Length: 61, dtype: object\n"
     ]
    }
   ],
   "source": [
    "# Features(Columns)'s data types\n",
    "print(covid19_data.dtypes)"
   ]
  },
  {
   "cell_type": "code",
   "execution_count": 12,
   "metadata": {},
   "outputs": [
    {
     "name": "stdout",
     "output_type": "stream",
     "text": [
      "<class 'pandas.core.frame.DataFrame'>\n",
      "RangeIndex: 458548 entries, 0 to 458547\n",
      "Data columns (total 61 columns):\n",
      " #   Column                                      Non-Null Count   Dtype  \n",
      "---  ------                                      --------------   -----  \n",
      " 0   country                                     458548 non-null  object \n",
      " 1   date                                        458548 non-null  object \n",
      " 2   total_cases                                 446750 non-null  float64\n",
      " 3   new_cases                                   444606 non-null  float64\n",
      " 4   new_cases_smoothed                          443386 non-null  float64\n",
      " 5   total_cases_per_million                     446750 non-null  float64\n",
      " 6   new_cases_per_million                       444606 non-null  float64\n",
      " 7   new_cases_smoothed_per_million              443386 non-null  float64\n",
      " 8   total_deaths                                446750 non-null  float64\n",
      " 9   new_deaths                                  445200 non-null  float64\n",
      " 10  new_deaths_smoothed                         443983 non-null  float64\n",
      " 11  total_deaths_per_million                    446750 non-null  float64\n",
      " 12  new_deaths_per_million                      445200 non-null  float64\n",
      " 13  new_deaths_smoothed_per_million             443983 non-null  float64\n",
      " 14  excess_mortality                            13572 non-null   float64\n",
      " 15  excess_mortality_cumulative                 13572 non-null   float64\n",
      " 16  excess_mortality_cumulative_absolute        13572 non-null   float64\n",
      " 17  excess_mortality_cumulative_per_million     13538 non-null   float64\n",
      " 18  hosp_patients                               40656 non-null   float64\n",
      " 19  hosp_patients_per_million                   40656 non-null   float64\n",
      " 20  weekly_hosp_admissions                      24497 non-null   float64\n",
      " 21  weekly_hosp_admissions_per_million          24497 non-null   float64\n",
      " 22  icu_patients                                39116 non-null   float64\n",
      " 23  icu_patients_per_million                    39116 non-null   float64\n",
      " 24  weekly_icu_admissions                       10993 non-null   float64\n",
      " 25  weekly_icu_admissions_per_million           10993 non-null   float64\n",
      " 26  stringency_index                            202760 non-null  float64\n",
      " 27  reproduction_rate                           185683 non-null  float64\n",
      " 28  total_tests                                 79387 non-null   float64\n",
      " 29  new_tests                                   75403 non-null   float64\n",
      " 30  total_tests_per_thousand                    79387 non-null   float64\n",
      " 31  new_tests_per_thousand                      75403 non-null   float64\n",
      " 32  new_tests_smoothed                          103965 non-null  float64\n",
      " 33  new_tests_smoothed_per_thousand             103965 non-null  float64\n",
      " 34  positive_rate                               102359 non-null  float64\n",
      " 35  tests_per_case                              101444 non-null  float64\n",
      " 36  total_vaccinations                          83222 non-null   float64\n",
      " 37  people_vaccinated                           79011 non-null   float64\n",
      " 38  people_fully_vaccinated                     77011 non-null   float64\n",
      " 39  total_boosters                              58784 non-null   float64\n",
      " 40  new_vaccinations                            68876 non-null   float64\n",
      " 41  new_vaccinations_smoothed                   202840 non-null  float64\n",
      " 42  total_vaccinations_per_hundred              83222 non-null   float64\n",
      " 43  people_vaccinated_per_hundred               79011 non-null   float64\n",
      " 44  people_fully_vaccinated_per_hundred         77011 non-null   float64\n",
      " 45  total_boosters_per_hundred                  58784 non-null   float64\n",
      " 46  new_vaccinations_smoothed_per_million       202840 non-null  float64\n",
      " 47  new_people_vaccinated_smoothed              202840 non-null  float64\n",
      " 48  new_people_vaccinated_smoothed_per_hundred  202840 non-null  float64\n",
      " 49  code                                        437752 non-null  object \n",
      " 50  continent                                   423396 non-null  object \n",
      " 51  population                                  443053 non-null  float64\n",
      " 52  population_density                          435900 non-null  float64\n",
      " 53  median_age                                  437692 non-null  float64\n",
      " 54  life_expectancy                             0 non-null       float64\n",
      " 55  gdp_per_capita                              357588 non-null  float64\n",
      " 56  extreme_poverty                             288068 non-null  float64\n",
      " 57  diabetes_prevalence                         386225 non-null  float64\n",
      " 58  handwashing_facilities                      207687 non-null  float64\n",
      " 59  hospital_beds_per_thousand                  275952 non-null  float64\n",
      " 60  human_development_index                     367097 non-null  float64\n",
      "dtypes: float64(57), object(4)\n",
      "memory usage: 213.4+ MB\n",
      "None\n"
     ]
    }
   ],
   "source": [
    "print(covid19_data.info())"
   ]
  },
  {
   "cell_type": "markdown",
   "metadata": {},
   "source": [
    "We see that there are 57 numerical cols and 4 categorical ones."
   ]
  },
  {
   "cell_type": "markdown",
   "metadata": {},
   "source": [
    "### Sampling\n",
    "We see that this dataset is big with nearly half million observations, which is too big for EDA.So to reduce the dataset size and focus our Exploratory Data Analysis.<br>\n",
    "We will select few countries and focus on them."
   ]
  },
  {
   "cell_type": "code",
   "execution_count": 4,
   "metadata": {},
   "outputs": [
    {
     "data": {
      "text/plain": [
       "array(['Afghanistan', 'Africa', 'Albania', 'Algeria', 'American Samoa',\n",
       "       'Andorra', 'Angola', 'Anguilla', 'Antigua and Barbuda',\n",
       "       'Argentina', 'Armenia', 'Aruba', 'Asia', 'Asia excl. China',\n",
       "       'Australia', 'Austria', 'Azerbaijan', 'Bahamas', 'Bahrain',\n",
       "       'Bangladesh', 'Barbados', 'Belarus', 'Belgium', 'Belize', 'Benin',\n",
       "       'Bermuda', 'Bhutan', 'Bolivia', 'Bonaire Sint Eustatius and Saba',\n",
       "       'Bosnia and Herzegovina', 'Botswana', 'Brazil',\n",
       "       'British Virgin Islands', 'Brunei', 'Bulgaria', 'Burkina Faso',\n",
       "       'Burundi', 'Cambodia', 'Cameroon', 'Canada', 'Cape Verde',\n",
       "       'Cayman Islands', 'Central African Republic', 'Chad', 'Chile',\n",
       "       'China', 'Colombia', 'Comoros', 'Congo', 'Cook Islands',\n",
       "       'Costa Rica', \"Cote d'Ivoire\", 'Croatia', 'Cuba', 'Curacao',\n",
       "       'Cyprus', 'Czechia', 'Democratic Republic of Congo', 'Denmark',\n",
       "       'Djibouti', 'Dominica', 'Dominican Republic', 'East Timor',\n",
       "       'Ecuador', 'Egypt', 'El Salvador', 'England', 'England & Wales',\n",
       "       'Equatorial Guinea', 'Eritrea', 'Estonia', 'Eswatini', 'Ethiopia',\n",
       "       'Europe', 'European Union (27)', 'Falkland Islands',\n",
       "       'Faroe Islands', 'Fiji', 'Finland', 'France', 'French Guiana',\n",
       "       'French Polynesia', 'Gabon', 'Gambia', 'Georgia', 'Germany',\n",
       "       'Ghana', 'Gibraltar', 'Greece', 'Greenland', 'Grenada',\n",
       "       'Guadeloupe', 'Guam', 'Guatemala', 'Guernsey', 'Guinea',\n",
       "       'Guinea-Bissau', 'Guyana', 'Haiti', 'High-income countries',\n",
       "       'Honduras', 'Hong Kong', 'Hungary', 'Iceland', 'India',\n",
       "       'Indonesia', 'Iran', 'Iraq', 'Ireland', 'Isle of Man', 'Israel',\n",
       "       'Italy', 'Jamaica', 'Japan', 'Jersey', 'Jordan', 'Kazakhstan',\n",
       "       'Kenya', 'Kiribati', 'Kosovo', 'Kuwait', 'Kyrgyzstan', 'Laos',\n",
       "       'Latvia', 'Lebanon', 'Lesotho', 'Liberia', 'Libya',\n",
       "       'Liechtenstein', 'Lithuania', 'Low-income countries',\n",
       "       'Lower-middle-income countries', 'Luxembourg', 'Macao',\n",
       "       'Madagascar', 'Malawi', 'Malaysia', 'Maldives', 'Mali', 'Malta',\n",
       "       'Marshall Islands', 'Martinique', 'Mauritania', 'Mauritius',\n",
       "       'Mayotte', 'Mexico', 'Micronesia (country)', 'Moldova', 'Monaco',\n",
       "       'Mongolia', 'Montenegro', 'Montserrat', 'Morocco', 'Mozambique',\n",
       "       'Myanmar', 'Namibia', 'Nauru', 'Nepal', 'Netherlands',\n",
       "       'New Caledonia', 'New Zealand', 'Nicaragua', 'Niger', 'Nigeria',\n",
       "       'Niue', 'North America', 'North Korea', 'North Macedonia',\n",
       "       'Northern Ireland', 'Northern Mariana Islands', 'Norway',\n",
       "       'Oceania', 'Oman', 'Pakistan', 'Palau', 'Palestine', 'Panama',\n",
       "       'Papua New Guinea', 'Paraguay', 'Peru', 'Philippines', 'Pitcairn',\n",
       "       'Poland', 'Portugal', 'Puerto Rico', 'Qatar', 'Reunion', 'Romania',\n",
       "       'Russia', 'Rwanda', 'Saint Barthelemy', 'Saint Helena',\n",
       "       'Saint Kitts and Nevis', 'Saint Lucia',\n",
       "       'Saint Martin (French part)', 'Saint Pierre and Miquelon',\n",
       "       'Saint Vincent and the Grenadines', 'Samoa', 'San Marino',\n",
       "       'Sao Tome and Principe', 'Saudi Arabia', 'Scotland', 'Senegal',\n",
       "       'Serbia', 'Seychelles', 'Sierra Leone', 'Singapore',\n",
       "       'Sint Maarten (Dutch part)', 'Slovakia', 'Slovenia',\n",
       "       'Solomon Islands', 'Somalia', 'South Africa', 'South America',\n",
       "       'South Korea', 'South Sudan', 'Spain', 'Sri Lanka', 'Sudan',\n",
       "       'Summer Olympics 2020', 'Suriname', 'Sweden', 'Switzerland',\n",
       "       'Syria', 'Taiwan', 'Tajikistan', 'Tanzania', 'Thailand', 'Togo',\n",
       "       'Tokelau', 'Tonga', 'Transnistria', 'Trinidad and Tobago',\n",
       "       'Tunisia', 'Turkey', 'Turkmenistan', 'Turks and Caicos Islands',\n",
       "       'Tuvalu', 'Uganda', 'Ukraine', 'United Arab Emirates',\n",
       "       'United Kingdom', 'United States', 'United States Virgin Islands',\n",
       "       'Upper-middle-income countries', 'Uruguay', 'Uzbekistan',\n",
       "       'Vanuatu', 'Vatican', 'Venezuela', 'Vietnam', 'Wales',\n",
       "       'Wallis and Futuna', 'Western Sahara', 'Winter Olympics 2022',\n",
       "       'World', 'World excl. China', 'World excl. China and South Korea',\n",
       "       'World excl. China, South Korea, Japan and Singapore', 'Yemen',\n",
       "       'Zambia', 'Zimbabwe'], dtype=object)"
      ]
     },
     "execution_count": 4,
     "metadata": {},
     "output_type": "execute_result"
    }
   ],
   "source": [
    "covid19_data.country.unique()"
   ]
  },
  {
   "cell_type": "markdown",
   "metadata": {},
   "source": [
    "We will continue with **Algeria**, **Saudi Arabia**, **Russia**, **Greenland**, **South Africa** and **Argentina**."
   ]
  },
  {
   "cell_type": "code",
   "execution_count": 57,
   "metadata": {},
   "outputs": [],
   "source": [
    "selected_countries = ['Algeria',\"Saudi Arabia\",\"Russia\",\"Greenland\",\"South Africa\",\"Argentina\"]\n",
    "subset_data = covid19_data[covid19_data['country'].isin(selected_countries)]"
   ]
  },
  {
   "cell_type": "markdown",
   "metadata": {},
   "source": [
    "### Upload the Raw Data to the API"
   ]
  },
  {
   "cell_type": "code",
   "execution_count": 58,
   "metadata": {},
   "outputs": [],
   "source": [
    "# Convert the DataFrame to Json format for transmition\n",
    "subset_data_json = subset_data.to_json()"
   ]
  },
  {
   "cell_type": "code",
   "execution_count": 59,
   "metadata": {},
   "outputs": [
    {
     "name": "stdout",
     "output_type": "stream",
     "text": [
      "201\n"
     ]
    }
   ],
   "source": [
    "raw_data_url = \"http://127.0.0.1:5000/raw_data\"\n",
    "response = requests.post(raw_data_url,json=subset_data_json)\n",
    "print(response.status_code)"
   ]
  },
  {
   "cell_type": "code",
   "execution_count": null,
   "metadata": {},
   "outputs": [],
   "source": []
  }
 ],
 "metadata": {
  "kernelspec": {
   "display_name": "base",
   "language": "python",
   "name": "python3"
  },
  "language_info": {
   "codemirror_mode": {
    "name": "ipython",
    "version": 3
   },
   "file_extension": ".py",
   "mimetype": "text/x-python",
   "name": "python",
   "nbconvert_exporter": "python",
   "pygments_lexer": "ipython3",
   "version": "3.11.7"
  }
 },
 "nbformat": 4,
 "nbformat_minor": 2
}
